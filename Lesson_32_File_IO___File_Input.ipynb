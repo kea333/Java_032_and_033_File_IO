{
  "cells": [
    {
      "cell_type": "markdown",
      "id": "bc4a0f52-2452-4399-9fe4-010c1eb7cc93",
      "metadata": {
        "id": "bc4a0f52-2452-4399-9fe4-010c1eb7cc93"
      },
      "source": [
        "32.\n",
        "\n",
        "# File IO - File Input\n",
        "\n",
        "This lesson enables us to write programs that load data from a file. \n",
        "\n",
        "All our programs up to this point have been able to store data in variables, so the data is either on the stack or on the heap. However, the moment the program ends, the data is lost. Neither the stack or heap are **persistent** storage. When we restart the program, none of the data is available any more. Real programs need data that has been input or generated to survive the program closing, so we can carry on where we left off. We might be saving the state of a game, a wordprocessor document, or a program being developed. The file system of the computer provides persistent storage. To do this we need file input and output. Data is written into a file and then can be read in by the program at a later date, or by a different person. \n",
        "\n",
        "So far the only kind of input and output we have seen is input from the keyboard and output to the screen. File input and output is similar - it is mainly only the place the data is coming from and going to that changes.\n",
        "\n",
        "This lesson focuses on file input: reading data in to a program from a file. File output is very similar, as we will see later in Lesson 33."
      ]
    },
    {
      "cell_type": "markdown",
      "id": "b4c267b6-7ef5-4208-98e9-fade94030119",
      "metadata": {
        "id": "b4c267b6-7ef5-4208-98e9-fade94030119"
      },
      "source": [
        "### Revision\n",
        "\n",
        "Q1: Explain line by line what the following statements do:\n",
        "\n",
        "```\n",
        "String emperor;\n",
        "Scanner scanner = new Scanner(System.in);\n",
        "    \n",
        "System.out.println(\"Name a Roman Emperor\");\n",
        "emperor = scanner.nextLine();\n",
        "    \n",
        "System.out.println(\"You named Emperor \" + emperor);\n",
        "```"
      ]
    },
    {
      "cell_type": "markdown",
      "id": "21cb22a6-0422-4c08-a36f-7d0a9394455b",
      "metadata": {
        "id": "21cb22a6-0422-4c08-a36f-7d0a9394455b"
      },
      "source": [
        "A: We declare a variable called emperor to store a String read in from the keyboard:\n",
        "\n",
        "```\n",
        "String emperor;\n",
        "```\n",
        "\n",
        "We then declare a Scanner. This is like a pipe that connects the keyboard (System.in) to a variable in the program.\n",
        "We use new to create a new value of type Scanner and store it in variable scanner:\n",
        "\n",
        "```\n",
        "Scanner scanner = new Scanner(System.in);\n",
        "```\n",
        "\n",
        "We print a message so the user knows they are expected to type something:\n",
        "\n",
        "```\n",
        "System.out.println(\"Name a Roman Emperor\");\n",
        "```\n",
        "\n",
        "The next line does the actual input. The method nextLine linked to the scanner pulls data from the keyboard and turns it into a String value. This String is stored in the variable _emperor_:\n",
        "\n",
        "```\n",
        "emperor = scanner.nextLine();\n",
        "```\n",
        "\n",
        "The fact that the String input is now stored in a variable means it is now available for the program to manipualte. In particular it can print it out:\n",
        "\n",
        "```\n",
        "System.out.println(\"You named Emperor \" + emperor);\n",
        "```"
      ]
    },
    {
      "cell_type": "markdown",
      "id": "46cc9b07-75d6-4d8f-96c5-9ff8b0e0323c",
      "metadata": {
        "id": "46cc9b07-75d6-4d8f-96c5-9ff8b0e0323c"
      },
      "source": [
        "***\n",
        "\n",
        "Q2: For a program to read input from from a file, that file must be in the same directory (folder) as the program file. Create a folder and put/save this lesson's notebook in it, and then add a few such practice files. From the example provided, write code that inputs a line of characters from a file and prints it to the screen. Run it to see what it does. By comparing it with the code from exercise 1 above, suggest what you think aach line does."
      ]
    },
    {
      "cell_type": "code",
      "execution_count": null,
      "id": "2dda7c94-0b57-4d39-9958-b764abd4a42d",
      "metadata": {
        "id": "2dda7c94-0b57-4d39-9958-b764abd4a42d",
        "outputId": "9da93062-2a28-4568-ee6b-121b3f261fb3"
      },
      "outputs": [
        {
          "name": "stdout",
          "output_type": "stream",
          "text": [
            "This is the line of text read in.\n"
          ]
        }
      ],
      "source": [
        "/* Read a line from file and output to screen */\n",
        "\n",
        "BufferedReader inputStream = new BufferedReader (new FileReader(\"myfirstfile.txt\"));\n",
        "String s = inputStream.readLine();\n",
        "\n",
        "System.out.println(s); /* Print what is read from file to the screen */\n",
        "\n",
        "inputStream.close();"
      ]
    },
    {
      "cell_type": "markdown",
      "id": "6f3bcc16-471d-4c26-81e5-03a173f48ff1",
      "metadata": {
        "id": "6f3bcc16-471d-4c26-81e5-03a173f48ff1"
      },
      "source": [
        "**\n",
        "\n",
        "What is printed is the first line of the file _myfirstfile.txt_, i.e.\n",
        "\n",
        "```\n",
        "This is the line of text read in.\n",
        "```\n",
        "\n",
        "The first line is equivalent to the line creating the scanner. Here it connects the named file to a **Buffered Reader** variable. The idea is the same though. It does it in two steps - so in effect two different kinds of pipe are glued together. The file name is first given as a String (here \"myfirstfile.txt\" and this is used to create a new **FileReader**. This is a process a bit like a scanner pulling characters from the file. They are grouped together by the new **BufferedReader** that is linked to the File Reader. It **buffers** data i.e. gathers it together until the program is ready to take it. In the below we give the variable storing this buffered reader, inputStream. That is just a variable name though so as long as we are consistent we can call it anything we like.\n",
        "\n",
        "```\n",
        "BufferedReader inputStream = new BufferedReader (new FileReader(\"myfirstfile.txt\"));\n",
        "```\n",
        "The next statement is directly equivalent to the similar statement doing keyboard input. It reads a line of data from inputStream (i.e. from the file) and stores it in a String s\n",
        "\n",
        "```\n",
        "String s = inputStream.readLine();\n",
        "```\n",
        "\n",
        "It reads characters just up until the next newline character.\n",
        "\n",
        "Once we have a line read from the file into a String we can manipulate it like any other String, here we just print it\n",
        "\n",
        "```\n",
        "System.out.println(s); /* print what is read to the screen */\n",
        "```\n",
        "\n",
        "Finally after finishing reading data from a file we must close it, to make it available to other programs once more.\n",
        "\n",
        "```\n",
        "inputStream.close();\n",
        "```"
      ]
    },
    {
      "cell_type": "markdown",
      "id": "e9917592-9b3c-4fc7-ad11-b8364aa4fe7b",
      "metadata": {
        "id": "e9917592-9b3c-4fc7-ad11-b8364aa4fe7b"
      },
      "source": [
        "**\n",
        "\n",
        "Q3: Write code that reads in a line of text from the provided file called greeting.txt, stores it in a String variable called hello and then prints the text read in to the screen. Change the name of the variable of type BufferedReader to 'inputfile'."
      ]
    },
    {
      "cell_type": "code",
      "execution_count": null,
      "id": "dbb3ab41-276d-44b4-bc07-8953ddc94654",
      "metadata": {
        "id": "dbb3ab41-276d-44b4-bc07-8953ddc94654",
        "outputId": "77b6f45b-15f4-4ce8-b5dd-80e5a88c2079"
      },
      "outputs": [
        {
          "name": "stdout",
          "output_type": "stream",
          "text": [
            "Good Morning, Dave.\n"
          ]
        }
      ],
      "source": [
        "/* Read a line from file and output to screen */\n",
        "\n",
        "BufferedReader inputfile = new BufferedReader (new FileReader(\"greeting.txt\"));\n",
        "String hello = inputfile.readLine();\n",
        "\n",
        "System.out.println(hello); /* Print what is read from file to the screen */\n",
        "\n",
        "inputfile.close();"
      ]
    },
    {
      "cell_type": "markdown",
      "id": "fc265d8f-eff2-42ec-a2dc-8ddf2adb7b03",
      "metadata": {
        "id": "fc265d8f-eff2-42ec-a2dc-8ddf2adb7b03"
      },
      "source": [
        "**\n",
        "\n",
        "Q4: Modify your code so that it reads in more than one line from a poem, instead of reading 8 lines from the keyboard."
      ]
    },
    {
      "cell_type": "code",
      "execution_count": null,
      "id": "1e39a89c-0466-46fb-b9cc-e180965b7cfc",
      "metadata": {
        "id": "1e39a89c-0466-46fb-b9cc-e180965b7cfc",
        "outputId": "25fa4b48-e265-42f1-bf45-2f9ab445ffdd"
      },
      "outputs": [
        {
          "name": "stdout",
          "output_type": "stream",
          "text": [
            "Great fleas Have Lesser Fleas,\n",
            "upon Their backs To Bite’em,\n",
            "And Lesser Fleas Have Lesser fleas,\n",
            "And So, Ad infinitum.\n",
            "and Those great Fleas, Themselves, In turn\n",
            "Have Greater Fleas To go On;\n",
            "while Those Again have Greater still,\n",
            "And greater Still, And So on.\n"
          ]
        }
      ],
      "source": [
        "/* Read more than 1 line from a poem and output to screen */\n",
        "\n",
        "BufferedReader poetryfile = new BufferedReader (new FileReader(\"poem.txt\"));\n",
        "    \n",
        "for(int i = 1; i <=8; i++)\n",
        "{\n",
        "    String line = poetryfile.readLine();\n",
        "    System.out.println(line);    \n",
        "}\n",
        "\n",
        "poetryfile.close();"
      ]
    },
    {
      "cell_type": "markdown",
      "id": "d26d051f-6349-446e-8a6e-67e3f96181da",
      "metadata": {
        "id": "d26d051f-6349-446e-8a6e-67e3f96181da"
      },
      "source": [
        "This is a poem about recursion by Victorian logician Augustus De Morgan, famous for his laws of boolean logic, and also Maths tutor of Victorian computer scientist Ada Lovelace."
      ]
    },
    {
      "cell_type": "markdown",
      "id": "d7ffd72b-bbaa-4680-9ef8-29af5a9083d0",
      "metadata": {
        "id": "d7ffd72b-bbaa-4680-9ef8-29af5a9083d0"
      },
      "source": [
        "***\n",
        "\n",
        "### Exceptions\n",
        "\n",
        "To make file I/O methods work they must be able to deal with file I/O errors such as if a program tries to read from a file that doesn't actually exist. Any method that does file I/O needs the extra code:\n",
        "\n",
        "```\n",
        "throws IOException\n",
        "```\n",
        "added to the end of the header line of the method, e.g.\n",
        "\n",
        "```\n",
        "public static void fileinput5() throws IOException\n",
        "{\n",
        "  // code that does file I/O\n",
        "  ....\n",
        "}\n",
        "```\n",
        "\n",
        "This is just telling it to deal with I/O errors by ending the program and printing an error message. Without it, when we run the program it may just hang (if so interrupt the kernal and clear all the output). Ideally our programs will avoid making errors in the first place.\n",
        "\n",
        "Any method that can call a method that \"throws IoException\" must also have \"throws IoException\" added to its header line all the way back to main. Therefore, in any program doing file I/O the header line of the main method will be:\n",
        "\n",
        "```\n",
        "public static void main(String[] a) throws IOException\n",
        "```"
      ]
    },
    {
      "cell_type": "markdown",
      "id": "3b976534-d9b9-4085-90f5-53f1f04d24e2",
      "metadata": {
        "id": "3b976534-d9b9-4085-90f5-53f1f04d24e2"
      },
      "source": [
        "**\n",
        "\n",
        "Q5: Run your program from Q2 above, changing the name of the file to one that does not exist and catching ant errors. What happens and why?"
      ]
    },
    {
      "cell_type": "code",
      "execution_count": null,
      "id": "68b42bff-a133-4ef3-a4e9-e71ff99b24d9",
      "metadata": {
        "id": "68b42bff-a133-4ef3-a4e9-e71ff99b24d9",
        "outputId": "fd5398fb-da0b-45fa-f9e6-39b8c7545998"
      },
      "outputs": [
        {
          "ename": "EvalException",
          "evalue": "myNonExistentFile.txt (No such file or directory)",
          "output_type": "error",
          "traceback": [
            "\u001b[1m\u001b[31m---------------------------------------------------------------------------\u001b[0m",
            "\u001b[1m\u001b[31mjava.io.FileNotFoundException: myNonExistentFile.txt (No such file or directory)\u001b[0m",
            "\u001b[1m\u001b[31m\tat java.base/java.io.FileInputStream.open0(Native Method)\u001b[0m",
            "\u001b[1m\u001b[31m\tat java.base/java.io.FileInputStream.open(FileInputStream.java:219)\u001b[0m",
            "\u001b[1m\u001b[31m\tat java.base/java.io.FileInputStream.<init>(FileInputStream.java:157)\u001b[0m",
            "\u001b[1m\u001b[31m\tat java.base/java.io.FileInputStream.<init>(FileInputStream.java:112)\u001b[0m",
            "\u001b[1m\u001b[31m\tat java.base/java.io.FileReader.<init>(FileReader.java:60)\u001b[0m",
            "\u001b[1m\u001b[31m\tat .fileinput5(#23:5)\u001b[0m",
            "\u001b[1m\u001b[31m\tat .(#24:1)\u001b[0m"
          ]
        }
      ],
      "source": [
        "/* Catching exception on attempting to read from non-existent file */\n",
        "\n",
        "public static void fileinput5() throws IOException\n",
        "{\n",
        "    BufferedReader inputStream = new BufferedReader (new FileReader(\"myNonExistentFile.txt\"));\n",
        "    String s = inputStream.readLine();\n",
        "\n",
        "    System.out.println(s);    /* Print what is read from file to the screen */\n",
        "    inputStream.close();\n",
        "}\n",
        "\n",
        "fileinput5();"
      ]
    },
    {
      "cell_type": "markdown",
      "id": "89f1e61f-c821-4efe-8546-6c5ea06a3248",
      "metadata": {
        "id": "89f1e61f-c821-4efe-8546-6c5ea06a3248"
      },
      "source": [
        "The program fails and ends with an error message indicating a file I/O error ocurred because the file could not be found. The error message starts with something like:\n",
        "\n",
        "```\n",
        "Java.io.FileNotFoundException: mfirstfile.txt (No such file or directory)\n",
        "```"
      ]
    },
    {
      "cell_type": "markdown",
      "id": "95c585bc-7c39-46a8-a7a8-2327d3c7af78",
      "metadata": {
        "id": "95c585bc-7c39-46a8-a7a8-2327d3c7af78"
      },
      "source": [
        "Q6: Modify your code in the poem task so that it reads the line of input from that file, but the name is input by the program user when asked. It should read in a line of the poem and then print it out."
      ]
    },
    {
      "cell_type": "code",
      "execution_count": null,
      "id": "66f7c9cf-35b6-4aca-9f70-d2fd388e5037",
      "metadata": {
        "id": "66f7c9cf-35b6-4aca-9f70-d2fd388e5037",
        "outputId": "96caef19-83e1-4a9f-ca02-854d63148e82"
      },
      "outputs": [
        {
          "name": "stdout",
          "output_type": "stream",
          "text": [
            "What is the name of the file?\n"
          ]
        },
        {
          "name": "stdin",
          "output_type": "stream",
          "text": [
            " poem.txt\n"
          ]
        },
        {
          "name": "stdout",
          "output_type": "stream",
          "text": [
            "Great fleas Have Lesser Fleas,\n"
          ]
        }
      ],
      "source": [
        "/* Read a line from file whose name is input by user and output to screen */\n",
        "\n",
        "public static void fileinput6() throws IOException\n",
        "{\n",
        "    Scanner scanner = new Scanner(System.in);\n",
        "    System.out.println(\"What is the name of the file?\");\n",
        "    String filename = scanner.nextLine();\n",
        "    \n",
        "    BufferedReader inputStream = new BufferedReader (new FileReader(filename));\n",
        "    String s = inputStream.readLine();\n",
        "\n",
        "    System.out.println(s);      /* Print what is read from file to the screen */\n",
        "    inputStream.close();\n",
        "}\n",
        "\n",
        "fileinput6();"
      ]
    },
    {
      "cell_type": "markdown",
      "id": "99e93ecd-8b3f-4d75-b580-faa6cc1d9445",
      "metadata": {
        "id": "99e93ecd-8b3f-4d75-b580-faa6cc1d9445"
      },
      "source": [
        "### File formats\n",
        "\n",
        "An important aspect of file input and output is that of file formats. Reading data in from a file so that it can be processed is far easier if the data in the file is organised in a known and consistent way. For example, if we are to read in data into an array of records, it is easier if the data for each record is in a known order, with a known separator.\n",
        "\n",
        "The simplest file format is that each record entry is on its own line (so can be read in a line at a time) and the first line of the file gives the number of records so the maximum value to use as a loop counter. That value also gives the smallest array size needed to store all the data. For example, if our program has an array of zoo animals with name, kind, and age stored for each animal then the contents of the file might be:\n",
        "\n",
        "```\n",
        "2\n",
        "Jumbonaut\n",
        "Elephant\n",
        "12\n",
        "Charlotte\n",
        "Tarantula\n",
        "1\n",
        "```\n",
        "\n",
        "The above is the contents of the file 'zooanimals.txt' provided.\n",
        "\n",
        "Q7: Modify your code to read from the provided 'zooanimals.txt' file. Modify the file with a new third entry\n",
        "\n",
        "```\n",
        "Doris\n",
        "Tiger\n",
        "5\n",
        "```\n",
        "\n",
        "then run the program again. Predict what it will do."
      ]
    },
    {
      "cell_type": "code",
      "execution_count": null,
      "id": "40235cf6-2f23-4c62-be55-85855778f248",
      "metadata": {
        "id": "40235cf6-2f23-4c62-be55-85855778f248",
        "outputId": "d3632401-0d10-46cc-beab-2c7038a1c8c8"
      },
      "outputs": [
        {
          "name": "stdout",
          "output_type": "stream",
          "text": [
            "Jumbo\tElephant,\tage 12\n",
            "Tracey\tTarantula,\tage 1\n"
          ]
        }
      ],
      "source": [
        "/* Read from 'zooanimals.txt' file and output to screen */\n",
        "\n",
        "class ZooAnimal\n",
        "{\n",
        "    String name;\n",
        "    String kind;\n",
        "    int age;\n",
        "}\n",
        "\n",
        "public static void fileinput7() throws IOException\n",
        "{\n",
        "    String filename = \"zooanimals.txt\";\n",
        "    BufferedReader inputStream = new BufferedReader (new FileReader(filename));\n",
        "    \n",
        "    final int ANIMAL_COUNT = Integer.parseInt(inputStream.readLine());\n",
        "    ZooAnimal z = new ZooAnimal();\n",
        "    \n",
        "    for(int i = 0; i<ANIMAL_COUNT; i++)\n",
        "    {\n",
        "        z.name = inputStream.readLine();\n",
        "        z.kind = inputStream.readLine();\n",
        "        z.age = Integer.parseInt(inputStream.readLine());\n",
        "        \n",
        "        System.out.println(z.name + \"\\t\" + z.kind + \",\\tage \" + z.age);\n",
        "    }\n",
        "\n",
        "    inputStream.close();\n",
        "}\n",
        "\n",
        "fileinput7();"
      ]
    },
    {
      "cell_type": "markdown",
      "id": "f439f6b2-a142-4c28-b961-17a7dde1d558",
      "metadata": {
        "id": "f439f6b2-a142-4c28-b961-17a7dde1d558"
      },
      "source": [
        "**\n",
        "\n",
        "It reads in the separate values a line at a time, but stores them in separate fields allowing it to the print them out in a different format. The way it is printed does not have to have any link to the way it is stored in the file.\n",
        "\n",
        "The data could also just as well be read into simple String or int variables.\n",
        "\n",
        "Q8: Modify your code to read data from a file into an array of records, then print the array using a second _for_ loop following the first. The file holds records one per line.\n",
        "\n",
        "HINT: Convert a string to a double using Double.parseDouble"
      ]
    },
    {
      "cell_type": "code",
      "execution_count": null,
      "id": "347f2b77-7a48-497b-97b9-3a1a80e9dab2",
      "metadata": {
        "id": "347f2b77-7a48-497b-97b9-3a1a80e9dab2",
        "outputId": "834f1c7d-7812-4549-f26c-f0274b38f2fe"
      },
      "outputs": [
        {
          "name": "stdout",
          "output_type": "stream",
          "text": [
            "The Grapes of Wrath\tJohn Steinbeck\tUKP5.99\n",
            "Wolf Hall\tHilary Mantel\tUKP7.99\n",
            "Why I’m No Longer Talking to White People About Race\tReni Eddo-Lodge\tUKP6.29\n"
          ]
        }
      ],
      "source": [
        "/* Read data from a file and output to screen */\n",
        "\n",
        "class Book\n",
        "{\n",
        "    String title;\n",
        "    String author;\n",
        "    double cost;\n",
        "}\n",
        "\n",
        "/* Read book details from a file and then print them */\n",
        "\n",
        "public static void fileinput8() throws IOException\n",
        "{\n",
        "    String filename = \"books.txt\";\n",
        "    BufferedReader inputStream = new BufferedReader (new FileReader(filename));\n",
        "    \n",
        "    final int BOOKS = Integer.parseInt(inputStream.readLine());\n",
        "    Book b = new Book();\n",
        "    \n",
        "    for(int i = 0; i<BOOKS; i++)\n",
        "    {\n",
        "        b.title = inputStream.readLine();\n",
        "        b.author = inputStream.readLine();\n",
        "        b.cost = Double.parseDouble(inputStream.readLine());\n",
        "        \n",
        "        System.out.println(b.title + \"\\t\" + b.author + \"\\tUKP\" + b.cost);\n",
        "    }\n",
        "\n",
        "    inputStream.close();\n",
        "}\n",
        "\n",
        "fileinput8();"
      ]
    },
    {
      "cell_type": "markdown",
      "id": "8f88ac78-d0e4-409d-a91f-fffd4d9e85ad",
      "metadata": {
        "id": "8f88ac78-d0e4-409d-a91f-fffd4d9e85ad"
      },
      "source": [
        "### Comma separated Files\n",
        "We use the endings of file names to indicate the format (e.g. .doc - word format, .pdf - pdf format, .txt a simple unstructured text format, etc).\n",
        "A slightly more complex file format, is the comma separated file - files with names ending .csv (for comma separated values). Here each record is stored on a single line, but with the data separated by commas. For example if our program has an array of zoo animals as above with name, kind, and age stored for each animal then the contents of the file might now be:\n",
        "\n",
        "```\n",
        "Jumbo,Elephant,12\n",
        "Charlotte,Tarantula,1\n",
        "```\n",
        "\n",
        "Note the data itself cannot include commas, and spaces are treated as characters in the data and are not ignored.\n",
        "This is the contents of the file 'zooanimals.csv' provided.\n",
        "\n",
        "We then need a way to extract the separate data elements of the line. The String library method \"split\" does this. Given the separator (here a comma) it returns a String array with the separate data elements in consecutive cells of the array.\n",
        "\n",
        "So if variable s holds the String \"Jumbo,Elephant,12\" then\n",
        "\n",
        "```\n",
        "s.split(\",\")\n",
        "```\n",
        "\n",
        "returns the array\n",
        "\n",
        "```\n",
        "{\"Jumbo\",\"Elephant\",\"12\"}\n",
        "```\n",
        "\n",
        "Note that csv files do not start with the number of entries. We need another way to tell the program when to stop. We can do that simply by checking if the String read in by the readLine method is null. If it is, then we can exit the loop as we are at the end of the file.\n",
        "\n",
        "Comma separated files are a standard output format of spreadsheets so a program that can read csv files can process data produced by spreadsheet programs like excel and numbers.\n",
        "\n",
        "Q9: The file 'zooanimals.csv' has the same data as zooanimals.txt just in a comma separated format. Write code to read the csv file and print its contents. Explain what happens."
      ]
    },
    {
      "cell_type": "code",
      "execution_count": null,
      "id": "d243cc1d-73c6-459a-9909-dd35aee9a64f",
      "metadata": {
        "id": "d243cc1d-73c6-459a-9909-dd35aee9a64f",
        "outputId": "3a08876e-0748-4371-f7bc-b48a137c7121"
      },
      "outputs": [
        {
          "name": "stdout",
          "output_type": "stream",
          "text": [
            "Jumbonaut\tElephant,\tage 12\n",
            "Tracey\tTarantula,\tage 1\n"
          ]
        }
      ],
      "source": [
        "/* Read data from a csv file and into an array, then output to screen */\n",
        "\n",
        "class ZooAnimal\n",
        "{\n",
        "    String name;\n",
        "    String kind;\n",
        "    int age;\n",
        "}\n",
        "\n",
        "public static void fileinput9() throws IOException\n",
        "{\n",
        "    String filename = \"zooanimals.csv\";\n",
        "    BufferedReader inputStream = new BufferedReader (new FileReader(filename));\n",
        "        \n",
        "    String zooanimal = inputStream.readLine();\n",
        "    while(zooanimal!=null)\n",
        "    {\n",
        "        ZooAnimal animal = new ZooAnimal();\n",
        "        String[] zooanimal_components = zooanimal.split(\",\");\n",
        "\n",
        "        animal.name = zooanimal_components[0];\n",
        "        animal.kind = zooanimal_components[1];\n",
        "        animal.age = Integer.parseInt(zooanimal_components[2]);\n",
        "        \n",
        "        System.out.println(animal.name + \"\\t\" + animal.kind + \",\\tage \" + animal.age);\n",
        "        \n",
        "        zooanimal = inputStream.readLine();\n",
        "    }\n",
        "\n",
        "    inputStream.close();\n",
        "}\n",
        "\n",
        "fileinput9();"
      ]
    },
    {
      "cell_type": "markdown",
      "id": "ff0b2c09-47f8-4910-8f71-d323834b5ab0",
      "metadata": {
        "id": "ff0b2c09-47f8-4910-8f71-d323834b5ab0"
      },
      "source": [
        "**\n",
        "\n",
        "It prints the contents of the file zooanimal.csv in the same format as the previous program i.e.\n",
        "\n",
        "```\n",
        "Jumbonaut\tElephant,\tage 12\n",
        "Charlotte\tTarantula,\tage 1\n",
        "```\n",
        "\n",
        "As we **do not know in advance now how many** lines there are in the file, we **use a _while_ loop rather than a _for_ loop**. We repeat until the sentinel value null (i.e. nothing read in) is found when we try to read in an animal name. We do this first outside the loop, allowing us to deal with being given an empty file. That means we read in the next line as the last step of the loop so it is again checked for null immediately.\n",
        "\n",
        "```\n",
        "String zooanimal = inputStream.readLine();\n",
        "while(zooanimal!=null)\n",
        "{\n",
        "    ...        \n",
        "    zooanimal = inputStream.readLine();\n",
        "}\n",
        "```\n",
        "\n",
        "Once we know we have a Line from the file we need to split it up. That is done by\n",
        "\n",
        "```\n",
        "String[] zooanimal_components = zooanimal.split(\",\");\n",
        "```\n",
        "\n",
        "The separator is a comma, and split breaks the file into component Strings based on that. These are\n",
        "then stored in the array zooanimal_components. We extract each and insert it in the appropriate record entry\n",
        "\n",
        "```\n",
        "        z.name = zooanimal_components[0];\n",
        "        z.kind = zooanimal_components[1];\n",
        "        z.age = Integer.parseInt(zooanimal_components[2]);\n",
        "```\n",
        "\n",
        "The last of the triple needs to be turned into an integer as what was read in was a String.\n",
        "\n",
        "Of course it would be better to treat the record as an ADT - with an operation to create it from a file.\n",
        "\n",
        "At this point we have the data in the record so the source having been a file is no longer relevant.\n",
        "\n",
        "We must remember to close the file after the loop ends.\n",
        "\n",
        "```\n",
        "    inputStream.close();\n",
        "```\n",
        "\n",
        "Q10: Convert your text file from Q8 above to a csv file, then modify your program to read in details from the csv file into an array and print it."
      ]
    },
    {
      "cell_type": "code",
      "execution_count": null,
      "id": "9dbc3643-374c-4000-818c-da4401aa4e33",
      "metadata": {
        "id": "9dbc3643-374c-4000-818c-da4401aa4e33",
        "outputId": "919ab85d-a002-4e1a-c60c-dd5e63cea504"
      },
      "outputs": [
        {
          "name": "stdout",
          "output_type": "stream",
          "text": [
            "The Grapes of Wrath\tJohn Steinbeck\t5.99\n",
            "Wolf Hall\tHilary Mantel\t7.99\n",
            "Why I’m No Longer Talking to White People About Race\tReni Eddo-Lodge\t6.29\n"
          ]
        }
      ],
      "source": [
        "/* Read data from a csv file and into an array, then output to screen */\n",
        "\n",
        "class Book\n",
        "{\n",
        "    String title;\n",
        "    String author;\n",
        "    double cost;\n",
        "}\n",
        "\n",
        "public static void fileinput10() throws IOException\n",
        "{\n",
        "    String filename = \"books.csv\";\n",
        "    BufferedReader inputStream = new BufferedReader (new FileReader(filename));\n",
        "        \n",
        "    String bookline = inputStream.readLine();\n",
        "    while(bookline!=null)\n",
        "    {\n",
        "        Book newbook = new Book();\n",
        "        String[] book_components = bookline.split(\",\");\n",
        "\n",
        "        newbook.title = book_components[0];\n",
        "        newbook.author = book_components[1];\n",
        "        newbook.cost = Double.parseDouble(book_components[2]);\n",
        "        \n",
        "        System.out.println(newbook.title + \"\\t\" + newbook.author + \"\\t\" + newbook.cost);\n",
        "        \n",
        "        bookline = inputStream.readLine();\n",
        "    }\n",
        "\n",
        "    inputStream.close();\n",
        "}\n",
        "\n",
        "fileinput10();"
      ]
    },
    {
      "cell_type": "markdown",
      "id": "5a9267a9-ac37-4a73-a365-ab91ffa94df4",
      "metadata": {
        "id": "5a9267a9-ac37-4a73-a365-ab91ffa94df4"
      },
      "source": [
        "### Full Programs and Libraries\n",
        "\n",
        "The file I/O methods are part of the io library so if a full program is going to do file input or output then the library must be loaded at the start thus:\n",
        "\n",
        "```\n",
        "import java.io.*;\n",
        "```\n",
        "\n",
        "Also remember the 'main' needs to throw an IOException so the header line is extended to:\n",
        "\n",
        "```\n",
        "public static void main(String[] a) throws IOException \n",
        "{\n",
        "   ...\n",
        "}\n",
        "```"
      ]
    },
    {
      "cell_type": "markdown",
      "id": "b2561fcd-6ebf-4fd6-bddd-6db74f585e1b",
      "metadata": {
        "id": "b2561fcd-6ebf-4fd6-bddd-6db74f585e1b"
      },
      "source": [
        "***\n",
        "\n",
        "### Summary\n",
        "\n",
        "File input is similar to reading from a keyboard, except rather than creating a Scanner we create a BufferedReader linked to a FileReader linked to the file\n",
        "\n",
        "```\n",
        "BufferedReader inputStream = new BufferedReader (new FileReader(filename));\n",
        "```\n",
        "\n",
        "The filename is just a String so it can be a literal value. It could also be the result of a calculation, so we could, for example, input the stem of the filename and automatically add the ending such as .csv\n",
        "\n",
        "```\n",
        "new FileReader(filename + \".csv\")\n",
        "```\n",
        "\n",
        "Unlike with keyboard input we need to close the file as soon as finished with it\n",
        "\n",
        "```\n",
        "inputStream.close();\n",
        "```\n",
        "\n",
        "Lines of text can be input from the file using a call to method ```inputStream.readLine()```\n",
        "where inputStream is just the name of the BufferedReader variable.\n",
        "\n",
        "readLine returns a String so is just stored in a String variable\n",
        "\n",
        "```\n",
        "String bookline = inputStream.readLine();\n",
        "```\n",
        "\n",
        "If the String read in by readLine is null, then the end of the file has been reached. Testing for null can be used to control a while loop.\n",
        "\n",
        "By organising files into a specific format that matches the internal data structure used in the program, data can be input from a file in a simple way. A comma separated file is an example of this, where values to go in a record are together on the same line of the file, separated by commas. This means those values can easily be separated out using the method split and then stored in the appropriate fields of a record variable."
      ]
    },
    {
      "cell_type": "code",
      "execution_count": null,
      "id": "e5fb596c-d5ed-4774-afb3-a99a22da726a",
      "metadata": {
        "id": "e5fb596c-d5ed-4774-afb3-a99a22da726a"
      },
      "outputs": [],
      "source": []
    }
  ],
  "metadata": {
    "kernelspec": {
      "display_name": "Java",
      "language": "java",
      "name": "java"
    },
    "language_info": {
      "codemirror_mode": "java",
      "file_extension": ".jshell",
      "mimetype": "text/x-java-source",
      "name": "Java",
      "pygments_lexer": "java",
      "version": "11.0.8+10-LTS"
    },
    "colab": {
      "provenance": []
    }
  },
  "nbformat": 4,
  "nbformat_minor": 5
}