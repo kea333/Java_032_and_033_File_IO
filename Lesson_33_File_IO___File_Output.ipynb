{
  "cells": [
    {
      "cell_type": "markdown",
      "id": "6d7339f7-8f7b-4c5b-af44-e930777092c2",
      "metadata": {
        "id": "6d7339f7-8f7b-4c5b-af44-e930777092c2"
      },
      "source": [
        "33.\n",
        "\n",
        "# File IO - File Output\n",
        "This lesson enables us to code programs that write data to a file.\n",
        "\n",
        "Further to the first part of _**persistent storage**_ which is to be able to read data from a file (Lesson 32), the other part (or side) of persistent storage is to store data back into a file. That is called **writing to a file**.\n",
        "\n",
        "The file I/O methods are part of the io library so if a full program is going to do file input or output then the library must be loaded. A full program must include the command at the start:\n",
        "\n",
        "```\n",
        "import java.io.*;\n",
        "```\n",
        "\n",
        "Virtually all programs have some kind of 'Save' option that allows the user to end the program and to carry on later from where they left off, whether editing an essay or playing a game. All that the 'Save' menu option does is just to execute a method that writes data currently stored in variables in the program to a file.\n",
        "\n",
        "### Revision\n",
        "\n",
        "Q1: Predict what the following code does. Predict what will happen if you run it a second time. Explain how it does it.\n",
        "\n",
        "You will need to open and look at a particular provided file to predict what happens. You need to work out which one. Go back to to the directory list and open it there to see it."
      ]
    },
    {
      "cell_type": "code",
      "execution_count": null,
      "id": "87f5a8d7-2197-4392-a4f0-568ddd74be4d",
      "metadata": {
        "id": "87f5a8d7-2197-4392-a4f0-568ddd74be4d",
        "outputId": "559a2541-7a67-4fed-a520-b1bcc752b878"
      },
      "outputs": [
        {
          "name": "stdout",
          "output_type": "stream",
          "text": [
            "Nicola Adams aged 38 is in Strictly 2020\n"
          ]
        }
      ],
      "source": [
        "class Celebrity\n",
        "{\n",
        "    String name;\n",
        "    int age;\n",
        "}\n",
        "\n",
        "public static void fileinput1() throws IOException\n",
        "{\n",
        "    BufferedReader celeb_file = new BufferedReader (new FileReader(\"celebrities.txt\"));\n",
        "        \n",
        "    Celebrity celeb = new Celebrity();\n",
        "\n",
        "    celeb.name = celeb_file.readLine();\n",
        "    celeb.age =  Integer.parseInt(celeb_file.readLine());\n",
        "\n",
        "    System.out.println(celeb.name + \" aged \" + celeb.age + \" is in Strictly 2020\");\n",
        "\n",
        "    celeb_file.close();\n",
        "}\n",
        "\n",
        "fileinput1();"
      ]
    },
    {
      "cell_type": "markdown",
      "id": "99117b3e-30a4-4658-9298-7d2829f076af",
      "metadata": {
        "id": "99117b3e-30a4-4658-9298-7d2829f076af"
      },
      "source": [
        "**\n",
        "\n",
        "It prints\n",
        "\n",
        "```\n",
        "Nicola Adams aged 38 is in Strictly 2020\n",
        "```\n",
        "\n",
        "Exactly the same happens if it is run again. Overall it reads the first TWO lines of the file in and prints them out.\n",
        "\n",
        "It first opens a file for reading called \"celebrities.txt\" and makes a link to it via the Buffered Reader variable that is declared with name, celeb_file\n",
        "\n",
        "```\n",
        "    BufferedReader celeb_file = new BufferedReader (new FileReader(\"celebrities.txt\"));\n",
        "```\n",
        "\n",
        "A new record of type Celebrity is created, called celeb\n",
        "\n",
        "```\n",
        "    Celebrity celeb = new Celebrity();\n",
        "```\n",
        "\n",
        "Celebrity values and so variables were declared to have a name field (a String) and an age field (an int).\n",
        "\n",
        "The next two lines of the file linked to celeb_file are read in by calling readline() twice and stored in the two fields of celeb. The second is converted into an integer first\n",
        "\n",
        "```\n",
        "    celeb.name = celeb_file.readLine();\n",
        "    celeb.age =  Integer.parseInt(celeb_file.readLine());\n",
        "```\n",
        "\n",
        "The values stored in the fields of celeb are printed out\n",
        "\n",
        "```\n",
        "    System.out.println(celeb.name + \" aged \" + celeb.age + \" is in Strictly 2020\");\n",
        "```\n",
        "\n",
        "The file is closed, releasing it for others to write to\n",
        "\n",
        "```\n",
        "    celeb_file.close();\n",
        "```\n",
        "\n",
        "Closing the file resets the position it is read from to the start. Reading from the file has not changed the file itself in any way. That means if the program is run again and so opened again, it reads from the start again.\n",
        "\n",
        "Q2: Predict what the following code does. Predict what will happen if you run it a second time. Explain how it does it."
      ]
    },
    {
      "cell_type": "code",
      "execution_count": null,
      "id": "ba848994-9e19-4c6a-a961-c63a481afeb6",
      "metadata": {
        "id": "ba848994-9e19-4c6a-a961-c63a481afeb6",
        "outputId": "7ead6ca6-bfce-4cff-8cfb-f84584316312"
      },
      "outputs": [
        {
          "name": "stdout",
          "output_type": "stream",
          "text": [
            "Nicola Adams aged 38 is in Strictly 2020\n",
            "HRVY aged 21 is in Strictly 2020\n",
            "Maisie Smith aged 19 is in Strictly 2020\n",
            "JJ Chalmers aged 33 is in Strictly 2020\n",
            "Bill Bailey aged 55 is in Strictly 2020\n",
            "Clara Amfo aged 36 is in Strictly 2020\n",
            "Ranvir Singh aged 43 is in Strictly 2020\n",
            "Max George aged 32 is in Strictly 2020\n",
            "Jason Bell aged 42 is in Strictly 2020\n",
            "Caroline Quentin aged 60 is in Strictly 2020\n",
            "Jamie Laing aged 32 is in Strictly 2020\n",
            "Jacqui Smith aged 57 is in Strictly 2020\n"
          ]
        }
      ],
      "source": [
        "class Celebrity\n",
        "{\n",
        "    String name;\n",
        "    int age;\n",
        "}\n",
        "\n",
        "public static void fileinput2() throws IOException\n",
        "{\n",
        "    BufferedReader celeb_file = new BufferedReader (new FileReader(\"celebrities.txt\"));\n",
        "\n",
        "    final int CONTESTANTS = 12;\n",
        "    Celebrity[] all_celebs = new Celebrity[CONTESTANTS];\n",
        "\n",
        "    for(int i=0; i<CONTESTANTS; i++)\n",
        "    {\n",
        "        Celebrity celeb = new Celebrity();\n",
        "\n",
        "        celeb.name = celeb_file.readLine();\n",
        "        celeb.age =  Integer.parseInt(celeb_file.readLine());\n",
        "        \n",
        "        all_celebs[i] = celeb;\n",
        "    }\n",
        "\n",
        "    celeb_file.close();\n",
        "    \n",
        "    for(int j=0; j<CONTESTANTS; j++)\n",
        "    {\n",
        "        System.out.println(all_celebs[j].name + \" aged \" + all_celebs[j].age + \" is in Strictly 2020\");\n",
        "    }\n",
        "}\n",
        "\n",
        "fileinput2();"
      ]
    },
    {
      "cell_type": "markdown",
      "id": "3110cca4-7d16-4a3d-96cc-2665a6bfcefe",
      "metadata": {
        "id": "3110cca4-7d16-4a3d-96cc-2665a6bfcefe"
      },
      "source": [
        "**\n",
        "\n",
        "It prints\n",
        "\n",
        "```\n",
        "Nicola Adams aged 38 is in Strictly 2020\n",
        "HRVY aged 21 is in Strictly 2020\n",
        "Maisie Smith aged 19 is in Strictly 2020\n",
        "JJ Chalmers aged 33 is in Strictly 2020\n",
        "Bill Bailey aged 55 is in Strictly 2020\n",
        "Clara Amfo aged 36 is in Strictly 2020\n",
        "Ranvir Singh aged 43 is in Strictly 2020\n",
        "Max George aged 32 is in Strictly 2020\n",
        "Jason Bell aged 42 is in Strictly 2020\n",
        "Caroline Quentin aged 60 is in Strictly 2020\n",
        "Jamie Laing aged 32 is in Strictly 2020\n",
        "Jacqui Smith aged 57 is in Strictly 2020\n",
        "```\n",
        "\n",
        "This reads 24 lines from the file into the program in pairs. Then, once read in, it prints them all out. It will do exactly the same thing each time you run it (as long as the file is not changed in the meantime).\n",
        "\n",
        "This is similar to the previous program. However, as the part to read the file is in a loop, it reads pairs in over and over again. Similarly, the line to print is in a loop so does it over and over again. Because the separate records are stored in an array of records, all the name-age pairs are read in and then printed out.\n",
        "\n",
        "An array of records is created to hold the contents of the file. It is set to size 12 as there are 12 pairs of information in the file.\n",
        "\n",
        "```\n",
        "final int CONTESTANTS = 12;\n",
        "Celebrity[] all_celebs = new Celebrity[CONTESTANTS];\n",
        "```\n",
        "\n",
        "The first loop repeatedly reads in each pair of values from the file into a newly created record. The body of the loop does essentially the same as the previous code with one difference the last line.\n",
        "\n",
        "```\n",
        "    for(int i=0; i<CONTESTANTS; i++)\n",
        "    {\n",
        "        Celebrity celeb = new Celebrity();\n",
        "\n",
        "        celeb.name = celeb_file.readLine();\n",
        "        celeb.age =  Integer.parseInt(celeb_file.readLine());\n",
        "        \n",
        "        all_celebs[i] = celeb;\n",
        "    }\n",
        "```\n",
        "\n",
        "The last line of the above loop takes the newly created record (stored in veriable, celeb) and stores it in the array ```all_celebs```:\n",
        "\n",
        "```\n",
        "        all_celebs[i] = celeb;\n",
        "```\n",
        "\n",
        "Finally, the second loop runs back over the array, all_celebs, from the start and prints out the message about each entry of that array in turn. As the contents of the file is now stored in an organised way as records in an array it can be manipulated with no need to worry about the file any more.\n",
        "\n",
        "```\n",
        "    for(int j=0; j<CONTESTANTS; j++)\n",
        "    {\n",
        "        System.out.println(all_celebs[j].name + \" aged \" + all_celebs[j].age + \" is in Strictly 2020\");\n",
        "    }\n",
        "```"
      ]
    },
    {
      "cell_type": "markdown",
      "id": "965f6df1-af39-4daa-8700-c1417e749294",
      "metadata": {
        "id": "965f6df1-af39-4daa-8700-c1417e749294"
      },
      "source": [
        "### The Need for File Output\n",
        "\n",
        "Once data has been read in from a file and is stored in variables in a program, typically in an array of records, it can easily be processed, whether printed, added to or changed. How does data get into a file in the first place though? A program that someone wrote puts it there.\n",
        "\n",
        "Furthermore just reading from an existing file is fine if the aim is just to process the file. However, any changes to the data made by our program do not affect the file itself unless data is written back to the file.  Without file output the changes to the data are lost when the program quits.\n",
        "\n",
        "Also often programs input lots of data from the keyboard. Then we normally want that data to persist so we can end the program and run the program again later to carry on. That can only be done if the data input so far can be stored into a file. Otherwise every time we ran the program we would need to input all the data again by hand.\n",
        "\n",
        "Q3: Check the directory of your JupyterHub and check that there is NO file there called filetowrite.txt. Next, predict what the following code will do.\n",
        "\n",
        "Run the code, then check the directory again (refreshing the browser window) and see if you were right."
      ]
    },
    {
      "cell_type": "code",
      "execution_count": null,
      "id": "b5e6e80d-eaa5-4bcb-9327-a03e83d3e075",
      "metadata": {
        "id": "b5e6e80d-eaa5-4bcb-9327-a03e83d3e075",
        "outputId": "39826851-ea31-4a42-a21f-42b5e9756cf0"
      },
      "outputs": [
        {
          "name": "stdout",
          "output_type": "stream",
          "text": [
            "File written\n"
          ]
        }
      ],
      "source": [
        "PrintWriter outputStream = new PrintWriter (new FileWriter(\"filetowrite.txt\"));\n",
        "\n",
        "outputStream.println(\"Store this String in a file called filetowrite.txt\");\n",
        "System.out.println(\"File written\");\n",
        "\n",
        "outputStream.close();"
      ]
    },
    {
      "cell_type": "markdown",
      "id": "40b4bfcb-9a33-4816-84bc-8b3ad024dead",
      "metadata": {
        "id": "40b4bfcb-9a33-4816-84bc-8b3ad024dead"
      },
      "source": [
        "**\n",
        "\n",
        "The file did not exist before running the code, but does exist after it is run. The file contains a single line\n",
        "\n",
        "```\n",
        "Store this String in a file called filetowrite.txt\n",
        "```\n",
        "\n",
        "The fragment also prints a message to the screen.\n",
        "\n",
        "The first line \n",
        "\n",
        "```\n",
        "PrintWriter outputStream = new PrintWriter (new FileWriter(\"filetowrite.txt\"));\n",
        "```\n",
        "\n",
        "creates a link to a file, just as with reading the contents of a file. Only the types are different. They set up a file to be written to using a File Writer linked to a PrintWriter. The following line links the variable of type PrintWriter called outputStream to the file called filetowrite.txt. \n",
        "\n",
        "When\n",
        "```new FileWriter(...)``` \n",
        "is executed if the named file does not exist then an empty file is created. Here it doesn't so the file filetowrite.txt is created.\n",
        "\n",
        "Writing to the file is done in exactly the same way as printing to the screen. Only the location the data is sent to changes.\n",
        "\n",
        "```\n",
        "outputStream.println(\"Store this String in a file called filetowrite.txt\");\n",
        "```\n",
        "\n",
        "The line\n",
        "\n",
        "```\n",
        "System.out.println(\"File written\");\n",
        "```\n",
        "\n",
        "just prints a message to the screen as normal (nothing as such to do with file I/O but useful to tell us something did happen!)\n",
        "\n",
        "Finally\n",
        "\n",
        "```\n",
        "outputStream.close();\n",
        "```\n",
        "\n",
        "closes the file, releasing it for use by other programs."
      ]
    },
    {
      "cell_type": "markdown",
      "id": "d4ff53f3-ca09-440e-a431-b53fe4ca1c94",
      "metadata": {
        "id": "d4ff53f3-ca09-440e-a431-b53fe4ca1c94"
      },
      "source": [
        "***\n",
        "\n",
        "### Summary so far\n",
        "\n",
        "Whenever you want to write to a file you need a line like this which creates a PrintWriter linked to the named file.\n",
        "\n",
        "```\n",
        "PrintWriter file = new PrintWriter (new FileWriter(\"filetowrite.txt\"));\n",
        "```\n",
        "\n",
        "file is just a variable so could be called anything. Once created you can use the method called file.println that incorparates the variable name into the name of the println method.\n",
        "\n",
        "\"filetowrite.txt\" must correspond exactly with the name of the file the data is to be stored in.\n",
        "\n",
        "Once finished with the file must be closed using the close method linked to the PrintWriter variable e.g.\n",
        "\n",
        "```\n",
        "file.close();\n",
        "```\n",
        "\n",
        "This makes the file available for use by other programs again.\n",
        "\n",
        "Q4: Write code that writes the word \"foggy\" to a file called weather.txt. Check that foggy has been stored in the file weather.txt."
      ]
    },
    {
      "cell_type": "code",
      "execution_count": null,
      "id": "53db0e7a-248c-4c3d-9a10-2a89730fa1b6",
      "metadata": {
        "id": "53db0e7a-248c-4c3d-9a10-2a89730fa1b6"
      },
      "outputs": [],
      "source": [
        "/* Writing 'foggy' to file 'weather.txt' */\n",
        "\n",
        "PrintWriter outputStream = new PrintWriter (new FileWriter(\"weather.txt\"));\n",
        "\n",
        "outputStream.println(\"foggy\");\n",
        "\n",
        "outputStream.close();"
      ]
    },
    {
      "cell_type": "markdown",
      "id": "3d37ead4-6a18-4735-97fc-c34952c27f2e",
      "metadata": {
        "id": "3d37ead4-6a18-4735-97fc-c34952c27f2e"
      },
      "source": [
        "### I/O Methods and Exceptions\n",
        "\n",
        "As with file input, when doing file output any methods that could write to a file themselves (or could call methods that might do so for them) must note on the header line that they can throw an exception\n",
        "\n",
        "```\n",
        "throws IOException\n",
        "```\n",
        "\n",
        "is added the end of the header line of the method. e.g.\n",
        "\n",
        "```\n",
        "public static void weather() throws IOException\n",
        "{\n",
        "  // code that does file I/O\n",
        "  ....\n",
        "}\n",
        "```\n",
        "\n",
        "This is telling the method to deal with I/O errors. A possible error that could occur when doing file output is that there is no room in the file system of the computer for the file being created (i.e. the computer's memory is full).\n",
        "\n",
        "Any method that can call a method that \"throws IoException\" must also have _throws IoException_ added to its header line all the way back to _main_. Therefore, in any program doing file I/O the header line of the main method will be:\n",
        "\n",
        "```\n",
        "public static void main(String[] a) throws IOException\n",
        "```"
      ]
    },
    {
      "cell_type": "markdown",
      "id": "14892c32-e799-44d5-bf55-de9bf2504c53",
      "metadata": {
        "id": "14892c32-e799-44d5-bf55-de9bf2504c53"
      },
      "source": [
        "***\n",
        "\n",
        "Q5: Write a program that writes \"windy\" to the weather.txt file, overwriting the old value, and catches any exceptions."
      ]
    },
    {
      "cell_type": "code",
      "execution_count": null,
      "id": "901b8082-3611-4682-9e2a-7649630feafc",
      "metadata": {
        "id": "901b8082-3611-4682-9e2a-7649630feafc",
        "outputId": "62da46ec-44be-4edc-b0b6-46935b00de5e"
      },
      "outputs": [
        {
          "name": "stdout",
          "output_type": "stream",
          "text": [
            "weather.txt content 'foggy' edited (written over) to 'windy'.\n"
          ]
        }
      ],
      "source": [
        "/* Overwriting 'foggy' with 'windy' in weather.txt file */\n",
        "\n",
        "public static void weather5() throws IOException\n",
        "{\n",
        "    PrintWriter weather_file = new PrintWriter (new FileWriter(\"weather.txt\"));\n",
        "\n",
        "    weather_file.println(\"Windy\");\n",
        "    System.out.println(\"weather.txt content 'foggy' edited (written over) to 'windy'.\");\n",
        "\n",
        "    weather_file.close();\n",
        "}\n",
        "\n",
        "weather5();"
      ]
    },
    {
      "cell_type": "markdown",
      "id": "046232e2-35eb-4bdb-b6d6-3b865fc2001a",
      "metadata": {
        "id": "046232e2-35eb-4bdb-b6d6-3b865fc2001a"
      },
      "source": [
        "**\n",
        "\n",
        "We needed to change the variable called 'outputStream' to a new variable name 'weather_file' (or any name) in the three lines it occurs: where it is declared, where it is used to print to the file and where it is closed.\n",
        "\n",
        "Q6: Write code to include a method to input a String from the keyboard. Use it to modify the method to allow the user to name the file to be created and so where the weather will be stored. Test it by typing the file name todaysweather.txt when asked for a file name.\n",
        "\n",
        "Check the file has been created and holds the expected data."
      ]
    },
    {
      "cell_type": "code",
      "execution_count": null,
      "id": "1dfbc170-c42d-4baa-aa72-360ac19d297e",
      "metadata": {
        "id": "1dfbc170-c42d-4baa-aa72-360ac19d297e",
        "outputId": "cc50333c-dec7-491f-c3c6-4c3472883470"
      },
      "outputs": [
        {
          "name": "stdout",
          "output_type": "stream",
          "text": [
            "What file should the weather be saved in?\n"
          ]
        },
        {
          "name": "stdin",
          "output_type": "stream",
          "text": [
            " todaysweather.txt\n"
          ]
        },
        {
          "name": "stdout",
          "output_type": "stream",
          "text": [
            "todaysweather.txt created and written to.\n"
          ]
        }
      ],
      "source": [
        "/* Taking input from keyboard naming file to be created */\n",
        "\n",
        "public static String inputString(String message)\n",
        "{\n",
        "    Scanner scanner = new Scanner(System.in);\n",
        "\n",
        "    System.out.println(message);\n",
        "    return scanner.nextLine();\n",
        "}\n",
        "\n",
        "public static void weather6() throws IOException\n",
        "{\n",
        "    String file_to_write = inputString(\"What file should the weather be saved in?\");\n",
        "    PrintWriter weather_file = new PrintWriter (new FileWriter(file_to_write));\n",
        "\n",
        "    weather_file.println(\"Windy\");\n",
        "    System.out.println(file_to_write + \" created and written to.\");\n",
        "\n",
        "    weather_file.close();\n",
        "}\n",
        "\n",
        "weather6();"
      ]
    },
    {
      "cell_type": "markdown",
      "id": "4137a8b9-d6bf-48a2-9055-036f4a7805c2",
      "metadata": {
        "id": "4137a8b9-d6bf-48a2-9055-036f4a7805c2"
      },
      "source": [
        "**\n",
        "\n",
        "We just need to call inputString and store the String typed in for the file name in a String variable (e.g. _file_to_write_ below). \n",
        "\n",
        "```\n",
        " PrintWriter weather_file = new PrintWriter (new FileWriter(file_to_write));\n",
        "```\n",
        "\n",
        "This variable can then be used to set up the connection to the file, providing the file name. The variable can also be used to indicate what file has been written to.\n",
        "\n",
        "Q7: Modify your code so that after asking the user for the name of the file it also asks for the weather today and saves it in the named file. Check the file has been created and holds the data typed in."
      ]
    },
    {
      "cell_type": "code",
      "execution_count": null,
      "id": "0205d78d-d15d-4fb3-8b45-2793e46c495a",
      "metadata": {
        "id": "0205d78d-d15d-4fb3-8b45-2793e46c495a",
        "outputId": "6adcfc2d-6fb7-4ca8-b367-210cf6110fa3"
      },
      "outputs": [
        {
          "name": "stdout",
          "output_type": "stream",
          "text": [
            "What file should the weather be saved in?\n"
          ]
        },
        {
          "name": "stdin",
          "output_type": "stream",
          "text": [
            " tomorrowsweather.txt\n"
          ]
        },
        {
          "name": "stdout",
          "output_type": "stream",
          "text": [
            "What is the weather like tomorrow?\n"
          ]
        },
        {
          "name": "stdin",
          "output_type": "stream",
          "text": [
            " Sunny\n"
          ]
        },
        {
          "name": "stdout",
          "output_type": "stream",
          "text": [
            "tomorrowsweather.txt has been created and Sunny was stored in it.\n"
          ]
        }
      ],
      "source": [
        "/* Taking input from keyboard to create, name and write to file */\n",
        "\n",
        "public static String inputString(String message)\n",
        "{\n",
        "    Scanner scanner = new Scanner(System.in);\n",
        "\n",
        "    System.out.println(message);\n",
        "    return scanner.nextLine();\n",
        "}\n",
        "\n",
        "\n",
        "public static void weather7() throws IOException\n",
        "{\n",
        "    String file_to_write = inputString(\"What file should the weather be saved in?\");\n",
        "    PrintWriter weather_file = new PrintWriter (new FileWriter(file_to_write));\n",
        "    \n",
        "    String todays_weather = inputString(\"What is the weather like tomorrow?\");   \n",
        "    weather_file.println(todays_weather);\n",
        "    System.out.println(file_to_write + \" has been created and \" + todays_weather + \" was stored in it.\");\n",
        "\n",
        "    weather_file.close();\n",
        "}\n",
        "\n",
        "weather7();"
      ]
    },
    {
      "cell_type": "markdown",
      "id": "dcd056a8-fc8c-4fac-8052-03b12bcedb05",
      "metadata": {
        "id": "dcd056a8-fc8c-4fac-8052-03b12bcedb05"
      },
      "source": [
        "***\n",
        "\n",
        "### File formats\n",
        "\n",
        "We saw when reading from a file that file formats are important. If a file is in a standard format then it allows different programs to read and write data to the same files. How does the data get into the file in a given format? Someone wrote file output code to do it.\n",
        "\n",
        "Let us take a comma separated value (.csv) file format. Remember in this format, related data is stored on a line separated by commas. To create a .csv file you just need to write comma characters between the data. For example, a file holding days and the weather on that day might hold the data:\n",
        "\n",
        "```\n",
        "Monday,Windy\n",
        "Tuesday,Foggy\n",
        "Wednesday,Sunny\n",
        "Thursday,Rainy\n",
        "Friday,Frosty\n",
        "Saturday,Foggy\n",
        "Sunday,Sunny\n",
        "```\n",
        "\n",
        "Q8: Write code to write the weather for two different days to a .csv file."
      ]
    },
    {
      "cell_type": "code",
      "execution_count": null,
      "id": "7914b187-9b8d-4796-be65-569518ef92e4",
      "metadata": {
        "id": "7914b187-9b8d-4796-be65-569518ef92e4",
        "outputId": "70386832-f7c5-44d6-df69-a0b95b0bbea3"
      },
      "outputs": [
        {
          "name": "stdout",
          "output_type": "stream",
          "text": [
            "The file 'weather.csv' written in csv format.\n"
          ]
        }
      ],
      "source": [
        "/* Writing 2 days' weather to csv file */\n",
        "\n",
        "public static void weather8() throws IOException\n",
        "{\n",
        "    PrintWriter weather_file = new PrintWriter (new FileWriter(\"weather.csv\"));\n",
        "\n",
        "    weather_file.println(\"Monday,Windy\");\n",
        "    weather_file.println(\"Tuesday,Foggy\");\n",
        "    System.out.println(\"The file 'weather.csv' written in csv format.\");\n",
        "    \n",
        "    weather_file.close();\n",
        "}\n",
        "\n",
        "weather8();"
      ]
    },
    {
      "cell_type": "markdown",
      "id": "1f3164f3-2550-4817-bd37-63e361fdd2d8",
      "metadata": {
        "id": "1f3164f3-2550-4817-bd37-63e361fdd2d8"
      },
      "source": [
        "**\n",
        "\n",
        "Q9: Predict what the following code writes to the file weather.csv."
      ]
    },
    {
      "cell_type": "code",
      "execution_count": null,
      "id": "1474b134-3abc-48e3-8733-9811e785d9af",
      "metadata": {
        "id": "1474b134-3abc-48e3-8733-9811e785d9af",
        "outputId": "86f2c008-a135-42a8-a893-d2da6146745b"
      },
      "outputs": [
        {
          "name": "stdout",
          "output_type": "stream",
          "text": [
            "weather.csv written in csv format\n"
          ]
        }
      ],
      "source": [
        "public static void weather9() throws IOException\n",
        "{\n",
        "    PrintWriter weather_file = new PrintWriter (new FileWriter(\"weather.csv\"));\n",
        "\n",
        "    for(int i = 0; i < 7; i++)\n",
        "    {\n",
        "        weather_file.println(\"Monday,Windy\");\n",
        "    }\n",
        "\n",
        "    System.out.println(\"weather.csv written in csv format\");\n",
        "    \n",
        "    weather_file.close();\n",
        "}\n",
        "\n",
        "weather9();"
      ]
    },
    {
      "cell_type": "markdown",
      "id": "32b7758d-e28a-4210-b41d-fb7d07952425",
      "metadata": {
        "id": "32b7758d-e28a-4210-b41d-fb7d07952425"
      },
      "source": [
        "A: It stores Monday,Windy into the file 7 times on subsequent lines:\n",
        "\n",
        "```\n",
        "Monday,Windy\n",
        "Monday,Windy\n",
        "Monday,Windy\n",
        "Monday,Windy\n",
        "Monday,Windy\n",
        "Monday,Windy\n",
        "Monday,Windy\n",
        "```\n",
        "\n",
        "and the prints\n",
        "```weather.csv written in csv format```\n",
        "\n",
        "Q10: Write code to write the corresponding pairs of values from days and weather arrays to the file in comma separated format."
      ]
    },
    {
      "cell_type": "code",
      "execution_count": null,
      "id": "b46f4e1f-5ce0-42b4-afc2-c4bf99a1b4aa",
      "metadata": {
        "id": "b46f4e1f-5ce0-42b4-afc2-c4bf99a1b4aa",
        "outputId": "e39d9a07-19fb-4668-a474-0afaeae7c3d2"
      },
      "outputs": [
        {
          "name": "stdout",
          "output_type": "stream",
          "text": [
            "The file 'weather.csv' written to with 'day,weather' pairs in csv format.\n"
          ]
        }
      ],
      "source": [
        "/* Writing 'day,weather' pairs in csv format to file */\n",
        "\n",
        "public static void weather10() throws IOException\n",
        "{\n",
        "    PrintWriter weather_file = new PrintWriter (new FileWriter(\"weather.csv\"));\n",
        "\n",
        "    String [] days = {\"Monday\", \"Tuesday\", \"Wednesday\", \"Thursday\", \"Friday\", \"Saturday\", \"Sunday\"};\n",
        "    String [] weather = {\"Frosty\", \"Windy\", \"Sunny\", \"Rainy\", \"Frosty\", \"Foggy\", \"Sunny\"};\n",
        "\n",
        "    for(int i = 0; i < 7; i++)\n",
        "    {\n",
        "        weather_file.println(days[i] + \",\" + weather[i]);\n",
        "    }\n",
        "\n",
        "    System.out.println(\"The file 'weather.csv' written to with 'day,weather' pairs in csv format.\");\n",
        "    \n",
        "    weather_file.close();\n",
        "}\n",
        "\n",
        "weather10();"
      ]
    },
    {
      "cell_type": "markdown",
      "id": "ca95fffc-1400-4936-8911-43849bd2e331",
      "metadata": {
        "id": "ca95fffc-1400-4936-8911-43849bd2e331"
      },
      "source": [
        "A: We just needed to change the line that writes the data to the file i.e. ```weather_file.println(\"Monday,Windy\");``` to get the values from the respective arrays, making sure they are separated by a comma with no spaces, i.e.\n",
        "\n",
        "```weather_file.println(days[i] + \",\" + weather[i]);```"
      ]
    },
    {
      "cell_type": "code",
      "execution_count": null,
      "id": "81248bc8-e73b-4c4f-9974-0a812affe258",
      "metadata": {
        "id": "81248bc8-e73b-4c4f-9974-0a812affe258",
        "outputId": "f9d47a91-08bc-4e3e-c51a-f31e9435e2d2"
      },
      "outputs": [
        {
          "name": "stdout",
          "output_type": "stream",
          "text": [
            "The file 'weather2.csv' written to with weekly 'day,weather' pairs in csv format.\n"
          ]
        }
      ],
      "source": [
        "/* Further writing 'day,weather' pairs in csv format to file */\n",
        "\n",
        "class WeatherReport\n",
        "{\n",
        "    String day;\n",
        "    String weather;\n",
        "}\n",
        "\n",
        "public static void weather11() throws IOException\n",
        "{\n",
        "    final int DAYS_IN_WEEK = 7;\n",
        "    String filename = \"weather2.csv\";\n",
        "    PrintWriter weather_file = new PrintWriter (new FileWriter(filename));\n",
        "        \n",
        "    WeatherReport[] weekly_weather = new WeatherReport[DAYS_IN_WEEK];\n",
        "    for(int i=0;i< DAYS_IN_WEEK; i++)\n",
        "    {\n",
        "        weekly_weather[i] = new WeatherReport();\n",
        "    }\n",
        "    \n",
        "    weekly_weather[0].day = \"Monday\";\n",
        "    weekly_weather[0].weather = \"Rainy\";\n",
        "    weekly_weather[1].day = \"Tuesday\";\n",
        "    weekly_weather[1].weather = \"Sunny\";\n",
        "    weekly_weather[2].day = \"Wednesday\";\n",
        "    weekly_weather[2].weather = \"Snowy\";\n",
        "    weekly_weather[3].day = \"Thursday\";\n",
        "    weekly_weather[3].weather = \"Hail\";\n",
        "    weekly_weather[4].day = \"Friday\";\n",
        "    weekly_weather[4].weather = \"Cloudy\";\n",
        "    weekly_weather[5].day = \"Saturday\";\n",
        "    weekly_weather[5].weather = \"Windy\";\n",
        "    weekly_weather[6].day = \"Sunday\";\n",
        "    weekly_weather[6].weather = \"Frosty\";\n",
        "    \n",
        "    \n",
        "    for(int i = 0; i < DAYS_IN_WEEK; i++)\n",
        "    {\n",
        "        weather_file.println(weekly_weather[i].day + \",\" + weekly_weather[i].weather);\n",
        "    }\n",
        "\n",
        "    System.out.println(\"The file 'weather2.csv' written to with weekly 'day,weather' pairs in csv format.\");\n",
        "\n",
        "    weather_file.close();\n",
        "}\n",
        "\n",
        "weather11();"
      ]
    },
    {
      "cell_type": "markdown",
      "id": "d902ea24-74b4-4582-b603-e4c4b65952c6",
      "metadata": {
        "id": "d902ea24-74b4-4582-b603-e4c4b65952c6"
      },
      "source": [
        "A: We just needed to change the line that writes the data to the file i.e. ```weather_file.println(\"Monday,Windy\");``` to get the values from the respective arrays, making sure they are separated by a comma with no spaces, i.e.\n",
        "\n",
        "```weather_file.println(weekly_weather[i].day + \",\" + weekly_weather[i].weather);```"
      ]
    },
    {
      "cell_type": "markdown",
      "id": "00916bfe-cc77-461d-a589-81e163680698",
      "metadata": {
        "id": "00916bfe-cc77-461d-a589-81e163680698"
      },
      "source": [
        "Q11: Write a method that inputs from the user the names of each Strictly Come Dancing celebrity and their pro dancer partner in turn and stores the data in a file called dancers.csv. \n",
        "\n",
        "The data should be stored in an array of records (using the given DancePartners record definition) and then transferred to a file in comma-separated format. Use the following 2020 names to test the program (to test it initially you may want to just read in the first two pairs).\n",
        "\n",
        "Each name should be asked for individually - first the celebrity and then the professional partner:\n",
        "\n",
        "```\n",
        "Nicola Adams - Katya Jones\n",
        "HRVY - Janette Manrara\n",
        "Maisie Smith - Gorka Marquez\n",
        "JJ Chalmers - Amy Dowden\n",
        "Bill Bailey - Oti Mabuse\n",
        "Clara Amfo - Aljaz Skorjanec\n",
        "Ranvir Singh - Giovanni Pernice\n",
        "Max George - Dianne Buswell\n",
        "Jason Bell - Luba Mushtuk\n",
        "Caroline Quentin - Johannes Radebe\n",
        "Jamie Laing - Karen Hauer\n",
        "Jacqui Smith - Anton du Beke\n",
        "```\n",
        "\n",
        "HINT: Do not forget you need to throw the IOException in the header line."
      ]
    },
    {
      "cell_type": "code",
      "execution_count": null,
      "id": "3f080981-ca5f-4a59-ae10-40ed3a48ad72",
      "metadata": {
        "id": "3f080981-ca5f-4a59-ae10-40ed3a48ad72",
        "outputId": "463a585c-34cf-4070-cf96-cdccc9c775e2"
      },
      "outputs": [
        {
          "name": "stdout",
          "output_type": "stream",
          "text": [
            "Who is the next celebrity?\n"
          ]
        },
        {
          "name": "stdin",
          "output_type": "stream",
          "text": [
            " Nicola Adams\n"
          ]
        },
        {
          "name": "stdout",
          "output_type": "stream",
          "text": [
            "Who is the next Professional?\n"
          ]
        },
        {
          "name": "stdin",
          "output_type": "stream",
          "text": [
            " Katya Jones\n"
          ]
        },
        {
          "name": "stdout",
          "output_type": "stream",
          "text": [
            "Who is the next celebrity?\n"
          ]
        },
        {
          "name": "stdin",
          "output_type": "stream",
          "text": [
            " HRVY\n"
          ]
        },
        {
          "name": "stdout",
          "output_type": "stream",
          "text": [
            "Who is the next Professional?\n"
          ]
        },
        {
          "name": "stdin",
          "output_type": "stream",
          "text": [
            " Janette Manrara\n"
          ]
        },
        {
          "name": "stdout",
          "output_type": "stream",
          "text": [
            "Who is the next celebrity?\n"
          ]
        },
        {
          "name": "stdin",
          "output_type": "stream",
          "text": [
            " Maisie Smith\n"
          ]
        },
        {
          "name": "stdout",
          "output_type": "stream",
          "text": [
            "Who is the next Professional?\n"
          ]
        },
        {
          "name": "stdin",
          "output_type": "stream",
          "text": [
            " Gorka Marquez\n"
          ]
        },
        {
          "name": "stdout",
          "output_type": "stream",
          "text": [
            "Who is the next celebrity?\n"
          ]
        },
        {
          "name": "stdin",
          "output_type": "stream",
          "text": [
            " JJ Chalmers\n"
          ]
        },
        {
          "name": "stdout",
          "output_type": "stream",
          "text": [
            "Who is the next Professional?\n"
          ]
        },
        {
          "name": "stdin",
          "output_type": "stream",
          "text": [
            " Amy Dowden\n"
          ]
        },
        {
          "name": "stdout",
          "output_type": "stream",
          "text": [
            "Who is the next celebrity?\n"
          ]
        },
        {
          "name": "stdin",
          "output_type": "stream",
          "text": [
            " Bill Bailey\n"
          ]
        },
        {
          "name": "stdout",
          "output_type": "stream",
          "text": [
            "Who is the next Professional?\n"
          ]
        },
        {
          "name": "stdin",
          "output_type": "stream",
          "text": [
            " Oti Mabuse\n"
          ]
        },
        {
          "name": "stdout",
          "output_type": "stream",
          "text": [
            "Who is the next celebrity?\n"
          ]
        },
        {
          "name": "stdin",
          "output_type": "stream",
          "text": [
            " Clara Amfo\n"
          ]
        },
        {
          "name": "stdout",
          "output_type": "stream",
          "text": [
            "Who is the next Professional?\n"
          ]
        },
        {
          "name": "stdin",
          "output_type": "stream",
          "text": [
            " Aljaz Skorjanec\n"
          ]
        },
        {
          "name": "stdout",
          "output_type": "stream",
          "text": [
            "Who is the next celebrity?\n"
          ]
        },
        {
          "name": "stdin",
          "output_type": "stream",
          "text": [
            " Ranvir Singh\n"
          ]
        },
        {
          "name": "stdout",
          "output_type": "stream",
          "text": [
            "Who is the next Professional?\n"
          ]
        },
        {
          "name": "stdin",
          "output_type": "stream",
          "text": [
            " Giovanni Pernice\n"
          ]
        },
        {
          "name": "stdout",
          "output_type": "stream",
          "text": [
            "Who is the next celebrity?\n"
          ]
        },
        {
          "name": "stdin",
          "output_type": "stream",
          "text": [
            " Max George\n"
          ]
        },
        {
          "name": "stdout",
          "output_type": "stream",
          "text": [
            "Who is the next Professional?\n"
          ]
        },
        {
          "name": "stdin",
          "output_type": "stream",
          "text": [
            " Dianne Buswell\n"
          ]
        },
        {
          "name": "stdout",
          "output_type": "stream",
          "text": [
            "Who is the next celebrity?\n"
          ]
        },
        {
          "name": "stdin",
          "output_type": "stream",
          "text": [
            " Jason Bell\n"
          ]
        },
        {
          "name": "stdout",
          "output_type": "stream",
          "text": [
            "Who is the next Professional?\n"
          ]
        },
        {
          "name": "stdin",
          "output_type": "stream",
          "text": [
            " Luba Mushtuk\n"
          ]
        },
        {
          "name": "stdout",
          "output_type": "stream",
          "text": [
            "Who is the next celebrity?\n"
          ]
        },
        {
          "name": "stdin",
          "output_type": "stream",
          "text": [
            " Caroline Quentin\n"
          ]
        },
        {
          "name": "stdout",
          "output_type": "stream",
          "text": [
            "Who is the next Professional?\n"
          ]
        },
        {
          "name": "stdin",
          "output_type": "stream",
          "text": [
            " Johannes Radebe\n"
          ]
        },
        {
          "name": "stdout",
          "output_type": "stream",
          "text": [
            "Who is the next celebrity?\n"
          ]
        },
        {
          "name": "stdin",
          "output_type": "stream",
          "text": [
            " Jamie Laing\n"
          ]
        },
        {
          "name": "stdout",
          "output_type": "stream",
          "text": [
            "Who is the next Professional?\n"
          ]
        },
        {
          "name": "stdin",
          "output_type": "stream",
          "text": [
            " Karen Hauer\n"
          ]
        },
        {
          "name": "stdout",
          "output_type": "stream",
          "text": [
            "Who is the next celebrity?\n"
          ]
        },
        {
          "name": "stdin",
          "output_type": "stream",
          "text": [
            " Jacqui Smith\n"
          ]
        },
        {
          "name": "stdout",
          "output_type": "stream",
          "text": [
            "Who is the next Professional?\n"
          ]
        },
        {
          "name": "stdin",
          "output_type": "stream",
          "text": [
            " Anton du Beke\n"
          ]
        },
        {
          "name": "stdout",
          "output_type": "stream",
          "text": [
            "All dancer pairings written to the file dancers.csv\n"
          ]
        }
      ],
      "source": [
        "/* Writing Strictly dance partners to file in csv format */\n",
        "\n",
        "class DancePartners\n",
        "{\n",
        "   String celebrity;\n",
        "   String prodancer;\n",
        "}\n",
        "\n",
        "\n",
        "public static String inputString(String message)\n",
        "{\n",
        "    Scanner scanner = new Scanner(System.in);\n",
        "\n",
        "    System.out.println(message);\n",
        "    return scanner.nextLine();\n",
        "}\n",
        "\n",
        "\n",
        "public static void inputAndWritePairings() throws IOException\n",
        "{\n",
        "    final int PAIRINGS = 12;\n",
        "    String filename = \"dancers.csv\";\n",
        "    PrintWriter dancers_file = new PrintWriter (new FileWriter(filename));\n",
        "        \n",
        "    DancePartners[] dance_pairings = new DancePartners[PAIRINGS];\n",
        "    for(int i=0;i< PAIRINGS; i++)\n",
        "    {\n",
        "         DancePartners pair = new DancePartners();\n",
        "         pair.celebrity = inputString(\"Who is the next celebrity?\");\n",
        "         pair.prodancer = inputString(\"Who is the next Professional?\");\n",
        "         \n",
        "         dance_pairings[i] = pair;\n",
        "    }\n",
        "        \n",
        "    for(int i = 0; i < PAIRINGS; i++)\n",
        "    {\n",
        "        dancers_file.println(dance_pairings[i].celebrity + \",\" + dance_pairings[i].prodancer);\n",
        "    }\n",
        "\n",
        "    System.out.println(\"All dancer pairings written to the file \" + filename);\n",
        "\n",
        "    dancers_file.close();\n",
        "}\n",
        "\n",
        "inputAndWritePairings();"
      ]
    },
    {
      "cell_type": "markdown",
      "id": "9a7caa4a-c092-4cdc-920a-e142d5a59204",
      "metadata": {
        "id": "9a7caa4a-c092-4cdc-920a-e142d5a59204"
      },
      "source": [
        "Q12: Write a method that inputs the dance pairings saved by the previous exercise's method from the file dancers.csv. The data should be loaded back into an array of records. Once all the data is stored in the array of records the pairings should then be printed to the screen in the format eg\n",
        "\n",
        "```\n",
        "Bill Bailey and partner Oti Mabuse\n",
        "```\n",
        "\n",
        "HINT 1: It will be similar to exercise 2.<br>\n",
        "HINT 2: In addition you will also need to use the split method on File Input. It is needed to split the line input as a String into its component parts. For example:\n",
        "\n",
        "```\n",
        "String[] book_components = bookline.split(\",\");\n",
        "\n",
        "newbook.title = book_components[0];\n",
        "newbook.author = book_components[1];\n",
        "```\n",
        "\n",
        "where bookline is a String holding the next line read from the file."
      ]
    },
    {
      "cell_type": "code",
      "execution_count": null,
      "id": "23ae81b3-0a52-4800-ab1c-0d11c5d3cf88",
      "metadata": {
        "id": "23ae81b3-0a52-4800-ab1c-0d11c5d3cf88",
        "outputId": "c673d34c-d2c3-4827-ab98-0bc87662efd4"
      },
      "outputs": [
        {
          "name": "stdout",
          "output_type": "stream",
          "text": [
            "Nicola Adams and partner Katya Jones\n",
            "HRVY and partner Janette Manrara\n",
            "Maisie Smith and partner Gorka Marquez\n",
            "JJ Chalmers and partner Amy Dowden\n",
            "Bill Bailey and partner Oti Mabuse\n",
            "Clara Amfo and partner Aljaz Skorjanec\n",
            "Ranvir Singh and partner Giovanni Pernice\n",
            "Max George and partner Dianne Buswell\n",
            "Jason Bell and partner Luba Mushtuk\n",
            "Caroline Quentin and partner Johannes Radebe\n",
            "Jamie Laing and partner Karen Hauer\n",
            "Jacqui Smith and partner Anton du Beke\n"
          ]
        }
      ],
      "source": [
        "/* Loading Strictly partners data back into array and outputting to screen */\n",
        "\n",
        "public static void readAndPrintPairings()  throws IOException\n",
        "{\n",
        "    final int PAIRINGS = 12;\n",
        "    String filename = \"dancers.csv\";\n",
        "    \n",
        "    BufferedReader dancers_file = new BufferedReader (new FileReader(filename));\n",
        "\n",
        "    DancePartners[] dance_pairings = new DancePartners[PAIRINGS];\n",
        "\n",
        "    \n",
        "    for(int i=0; i<PAIRINGS; i++)\n",
        "    {\n",
        "        DancePartners pair = new DancePartners();\n",
        "        \n",
        "        String dancersline = dancers_file.readLine();\n",
        "        String[] danceline_components = dancersline.split(\",\");\n",
        "        pair.celebrity = danceline_components[0];\n",
        "        pair.prodancer = danceline_components[1];\n",
        "        \n",
        "        dance_pairings[i] = pair;\n",
        "    }\n",
        "\n",
        "    dancers_file.close();\n",
        "    \n",
        "    for(int j=0; j<PAIRINGS; j++)\n",
        "    {\n",
        "        System.out.println(dance_pairings[j].celebrity + \" and partner \" + dance_pairings[j].prodancer);\n",
        "    }\n",
        "}\n",
        "\n",
        "readAndPrintPairings(); "
      ]
    },
    {
      "cell_type": "markdown",
      "id": "4ede6e3d-3d17-4fc2-9705-22609f33dcf0",
      "metadata": {
        "id": "4ede6e3d-3d17-4fc2-9705-22609f33dcf0"
      },
      "source": [
        "***\n",
        "\n",
        "### Summary\n",
        "\n",
        "File output (i.e. writing to a file) is similar to writing text to the screen, except rather than using System.out.println we create a PrintWriter linked to a FileWriter linked to the file\n",
        "\n",
        "```\n",
        "    PrintWriter outputStream = new PrintWriter (new FileWriter(filename));\n",
        "```\n",
        "\n",
        "If the file named does not exist then it is created. If it does exist then its contents are destroyed and over-written with the new data. **So to modify a file first read all the data in to an array, then change it in the array and finally write the whole (newly changed) array contents back out to the file**. \n",
        "\n",
        "The file name is just a String so it can be a literal value. It could also be the result of a calculation, so we could, for example, input the stem of the filename and automatically add the ending such as .csv\n",
        "\n",
        "```\n",
        "new FileWriter(filename + \".csv\")\n",
        "```\n",
        "\n",
        "Unlike with printing to the screen we need to close the file as soon as the program is finished with it\n",
        "\n",
        "```\n",
        "outputStream.close();\n",
        "```\n",
        "\n",
        "If a program is writing to a file then that file is locked so no other file can read or write to it until the program releases it by closing it.\n",
        "\n",
        "Lines of text can be output to the file using a call to method ```outputStream.printLine()```\n",
        "where outputStream is just the name of the PrintWriter variable. We are doing the same as printing to the screen except replacing System.out with the PrintWriter we have created.\n",
        "\n",
        "By writing the data into a file using a specific format such as csv format we can make it easy for a program to save a data structure such as an array of records, and then later, on a different run of the program read it back in to process it further."
      ]
    },
    {
      "cell_type": "code",
      "execution_count": null,
      "id": "edf95788-e9c3-4fd3-a270-1d1ce4ad0855",
      "metadata": {
        "id": "edf95788-e9c3-4fd3-a270-1d1ce4ad0855"
      },
      "outputs": [],
      "source": []
    }
  ],
  "metadata": {
    "kernelspec": {
      "display_name": "Java",
      "language": "java",
      "name": "java"
    },
    "language_info": {
      "codemirror_mode": "java",
      "file_extension": ".jshell",
      "mimetype": "text/x-java-source",
      "name": "Java",
      "pygments_lexer": "java",
      "version": "11.0.8+10-LTS"
    },
    "colab": {
      "provenance": []
    }
  },
  "nbformat": 4,
  "nbformat_minor": 5
}